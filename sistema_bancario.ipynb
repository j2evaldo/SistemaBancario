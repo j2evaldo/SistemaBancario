{
 "cells": [
  {
   "cell_type": "markdown",
   "metadata": {},
   "source": [
    "# **SOBRE O PROJETO**"
   ]
  },
  {
   "cell_type": "markdown",
   "metadata": {},
   "source": [
    "Este trabalho consiste em parte integrante da Formação Python Developer feito na Dio e tem como objetivo criar um sistema bancário com as operações de sacar, depositar e visualizar o extrato."
   ]
  },
  {
   "cell_type": "markdown",
   "metadata": {},
   "source": [
    "## **1.Operação de Depósito**"
   ]
  },
  {
   "cell_type": "markdown",
   "metadata": {},
   "source": [
    "Deve ser possível depositar valores positivos para a minha conta bancária. A v1 do projeto trabalha apenas com 1 usuário, dessa forma não precisamos nos preocupar em identificar qual é o número da agência e conta bancária.. Todos os depósitos devem ser armazenados em uma variável e exibidos na operação de extrato. \n"
   ]
  },
  {
   "cell_type": "markdown",
   "metadata": {},
   "source": [
    "## **1.1.Operação de Saque**"
   ]
  },
  {
   "cell_type": "markdown",
   "metadata": {},
   "source": [
    "O sistema deve permitir realizar 3 saques diários com limite máximo de R$ 500,00 por saque. Caso o usuário não tenha saldo em conta, o sistema deve exibir uma mensagem informando que não será possível sacar o dinheiro por falta de saldo. Todos os saques devem ser armazenados em uma variável e exibidos na operação de extrato. "
   ]
  },
  {
   "cell_type": "markdown",
   "metadata": {},
   "source": [
    "## **1.2.Operação de Extrato**"
   ]
  },
  {
   "cell_type": "markdown",
   "metadata": {},
   "source": [
    "Essa operação deve listar todos os depósitos e saques realizados na conta. No fim da listagem deve ser exibido o saldo atual da conta. Se o extrato estiver em branco, exibir a mensagem: não foram realizadas movimentações; \n",
    "\n",
    "Os valores devem ser exibidos utilizando o formato R$ xxx.xx,xx\n"
   ]
  },
  {
   "cell_type": "code",
   "execution_count": 3,
   "metadata": {},
   "outputs": [
    {
     "name": "stdout",
     "output_type": "stream",
     "text": [
      "Operação falhou. O Valor informado é inválido\n"
     ]
    }
   ],
   "source": [
    "menu = \"\"\"\n",
    "[d] Depositar\n",
    "[s] Sacar\n",
    "[e] Extrato\n",
    "[q] Sair\n",
    "\n",
    "\"\"\"\n",
    "\n",
    "saldo = 0\n",
    "limite = 500\n",
    "extrato = ''\n",
    "numero_saques = 0\n",
    "LIMITE_SAQUES = 3\n",
    "\n",
    "while True:\n",
    "    \n",
    "    opcao = input(menu)\n",
    "\n",
    "    if opcao == 'd':\n",
    "        valor = float(input('Informe o valor do depósito: '))\n",
    "\n",
    "        if valor >0:\n",
    "            saldo = saldo + valor\n",
    "            extrato += f'Depósito: R$ {valor:.2f}\\n'\n",
    "        else:\n",
    "            print(f'Operação falhou. O valor informado é inválido\\n'\n",
    "            'O Sistema só aceita depósitos com valor acima de 0')\n",
    "        \n",
    "    elif opcao == 's':\n",
    "        valor = float(input('Informe o valor do saque: '))\n",
    "\n",
    "        excedeu_saldo = valor > saldo\n",
    "\n",
    "        excedeu_limite = valor > limite\n",
    "\n",
    "        excedeu_saques = numero_saques >= LIMITE_SAQUES\n",
    "\n",
    "        if excedeu_saldo:\n",
    "            print('Você não tem saldo suficiente para realizar esta operação')\n",
    "\n",
    "        elif excedeu_limite:\n",
    "            print('Erro! Valor do saque excede o limite')\n",
    "        \n",
    "        elif valor > 0:\n",
    "            saldo -= valor\n",
    "            extrato += f'Saque: R$ {valor:.2f}\\n'\n",
    "        else:\n",
    "            print('Operação falhou. O Valor informado é inválido')\n",
    "\n",
    "\n",
    "    elif opcao == 'e':\n",
    "        print( '\\n================  EXTRATO  =================')\n",
    "        print('Não foram realizadas movimentações' if not extrato else extrato)\n",
    "        print(f'\\n Saldo: {saldo:.2f}')\n",
    "        print('=======================================')\n",
    "\n",
    "    elif opcao == 'q':\n",
    "        break\n",
    "\n",
    "    else:\n",
    "        print('Operação inválida, por favor selecione novamente a operação desejada')\n"
   ]
  },
  {
   "cell_type": "code",
   "execution_count": null,
   "metadata": {},
   "outputs": [],
   "source": []
  }
 ],
 "metadata": {
  "kernelspec": {
   "display_name": "Python 3.10.6 64-bit",
   "language": "python",
   "name": "python3"
  },
  "language_info": {
   "codemirror_mode": {
    "name": "ipython",
    "version": 3
   },
   "file_extension": ".py",
   "mimetype": "text/x-python",
   "name": "python",
   "nbconvert_exporter": "python",
   "pygments_lexer": "ipython3",
   "version": "3.10.6"
  },
  "orig_nbformat": 4,
  "vscode": {
   "interpreter": {
    "hash": "916dbcbb3f70747c44a77c7bcd40155683ae19c65e1c03b4aa3499c5328201f1"
   }
  }
 },
 "nbformat": 4,
 "nbformat_minor": 2
}
